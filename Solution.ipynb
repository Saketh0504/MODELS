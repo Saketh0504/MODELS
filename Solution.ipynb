{
 "cells": [
  {
   "cell_type": "code",
   "execution_count": 73,
   "id": "7f575888",
   "metadata": {},
   "outputs": [],
   "source": [
    "import pandas as pd\n",
    "from datetime import datetime,date\n",
    "import calendar\n",
    "import numpy as np"
   ]
  },
  {
   "cell_type": "markdown",
   "id": "edc2d2fb",
   "metadata": {},
   "source": [
    "# Reading the data"
   ]
  },
  {
   "cell_type": "code",
   "execution_count": 74,
   "id": "fc488a3e",
   "metadata": {},
   "outputs": [],
   "source": [
    "train=pd.read_csv('C:/Users/SAKETHBGS/Downloads/Data_Science_Assignment_M4_updated/train.csv')\n",
    "test=pd.read_csv('C:/Users/SAKETHBGS/Downloads/Data_Science_Assignment_M4_updated/test.csv')"
   ]
  },
  {
   "cell_type": "markdown",
   "id": "41e61bde",
   "metadata": {},
   "source": [
    "# Analysis"
   ]
  },
  {
   "cell_type": "code",
   "execution_count": 75,
   "id": "375d4b11",
   "metadata": {},
   "outputs": [
    {
     "data": {
      "text/html": [
       "<div>\n",
       "<style scoped>\n",
       "    .dataframe tbody tr th:only-of-type {\n",
       "        vertical-align: middle;\n",
       "    }\n",
       "\n",
       "    .dataframe tbody tr th {\n",
       "        vertical-align: top;\n",
       "    }\n",
       "\n",
       "    .dataframe thead th {\n",
       "        text-align: right;\n",
       "    }\n",
       "</style>\n",
       "<table border=\"1\" class=\"dataframe\">\n",
       "  <thead>\n",
       "    <tr style=\"text-align: right;\">\n",
       "      <th></th>\n",
       "      <th>datetime</th>\n",
       "      <th>season</th>\n",
       "      <th>holiday</th>\n",
       "      <th>workingday</th>\n",
       "      <th>weather</th>\n",
       "      <th>temp</th>\n",
       "      <th>atemp</th>\n",
       "      <th>humidity</th>\n",
       "      <th>windspeed</th>\n",
       "      <th>casual</th>\n",
       "      <th>registered</th>\n",
       "      <th>count</th>\n",
       "    </tr>\n",
       "  </thead>\n",
       "  <tbody>\n",
       "    <tr>\n",
       "      <th>0</th>\n",
       "      <td>2011-01-01 0:00:00</td>\n",
       "      <td>1</td>\n",
       "      <td>0</td>\n",
       "      <td>0</td>\n",
       "      <td>1</td>\n",
       "      <td>9.84</td>\n",
       "      <td>14.395</td>\n",
       "      <td>81.0</td>\n",
       "      <td>0.0</td>\n",
       "      <td>3</td>\n",
       "      <td>13</td>\n",
       "      <td>16</td>\n",
       "    </tr>\n",
       "    <tr>\n",
       "      <th>1</th>\n",
       "      <td>2011-01-01 1:00:00</td>\n",
       "      <td>1</td>\n",
       "      <td>0</td>\n",
       "      <td>0</td>\n",
       "      <td>1</td>\n",
       "      <td>9.02</td>\n",
       "      <td>13.635</td>\n",
       "      <td>80.0</td>\n",
       "      <td>0.0</td>\n",
       "      <td>8</td>\n",
       "      <td>32</td>\n",
       "      <td>40</td>\n",
       "    </tr>\n",
       "    <tr>\n",
       "      <th>2</th>\n",
       "      <td>2011-01-01 2:00:00</td>\n",
       "      <td>1</td>\n",
       "      <td>0</td>\n",
       "      <td>0</td>\n",
       "      <td>1</td>\n",
       "      <td>9.02</td>\n",
       "      <td>13.635</td>\n",
       "      <td>80.0</td>\n",
       "      <td>0.0</td>\n",
       "      <td>5</td>\n",
       "      <td>27</td>\n",
       "      <td>32</td>\n",
       "    </tr>\n",
       "    <tr>\n",
       "      <th>3</th>\n",
       "      <td>2011-01-01 3:00:00</td>\n",
       "      <td>1</td>\n",
       "      <td>0</td>\n",
       "      <td>0</td>\n",
       "      <td>1</td>\n",
       "      <td>9.84</td>\n",
       "      <td>14.395</td>\n",
       "      <td>75.0</td>\n",
       "      <td>0.0</td>\n",
       "      <td>3</td>\n",
       "      <td>10</td>\n",
       "      <td>13</td>\n",
       "    </tr>\n",
       "    <tr>\n",
       "      <th>4</th>\n",
       "      <td>2011-01-01 4:00:00</td>\n",
       "      <td>1</td>\n",
       "      <td>0</td>\n",
       "      <td>0</td>\n",
       "      <td>1</td>\n",
       "      <td>9.84</td>\n",
       "      <td>14.395</td>\n",
       "      <td>75.0</td>\n",
       "      <td>0.0</td>\n",
       "      <td>0</td>\n",
       "      <td>1</td>\n",
       "      <td>1</td>\n",
       "    </tr>\n",
       "  </tbody>\n",
       "</table>\n",
       "</div>"
      ],
      "text/plain": [
       "             datetime  season  holiday  workingday  weather  temp   atemp  \\\n",
       "0  2011-01-01 0:00:00       1        0           0        1  9.84  14.395   \n",
       "1  2011-01-01 1:00:00       1        0           0        1  9.02  13.635   \n",
       "2  2011-01-01 2:00:00       1        0           0        1  9.02  13.635   \n",
       "3  2011-01-01 3:00:00       1        0           0        1  9.84  14.395   \n",
       "4  2011-01-01 4:00:00       1        0           0        1  9.84  14.395   \n",
       "\n",
       "   humidity  windspeed  casual  registered  count  \n",
       "0      81.0        0.0       3          13     16  \n",
       "1      80.0        0.0       8          32     40  \n",
       "2      80.0        0.0       5          27     32  \n",
       "3      75.0        0.0       3          10     13  \n",
       "4      75.0        0.0       0           1      1  "
      ]
     },
     "execution_count": 75,
     "metadata": {},
     "output_type": "execute_result"
    }
   ],
   "source": [
    "train.head()"
   ]
  },
  {
   "cell_type": "code",
   "execution_count": 76,
   "id": "4e1534bf",
   "metadata": {},
   "outputs": [
    {
     "data": {
      "text/plain": [
       "datetime      0\n",
       "season        0\n",
       "holiday       0\n",
       "workingday    0\n",
       "weather       0\n",
       "temp          0\n",
       "atemp         0\n",
       "humidity      0\n",
       "windspeed     0\n",
       "casual        0\n",
       "registered    0\n",
       "count         0\n",
       "dtype: int64"
      ]
     },
     "execution_count": 76,
     "metadata": {},
     "output_type": "execute_result"
    }
   ],
   "source": [
    "train.isnull().sum()"
   ]
  },
  {
   "cell_type": "code",
   "execution_count": 77,
   "id": "489c8cf8",
   "metadata": {},
   "outputs": [
    {
     "data": {
      "text/plain": [
       "datetime      0\n",
       "season        0\n",
       "holiday       0\n",
       "workingday    0\n",
       "weather       0\n",
       "temp          0\n",
       "atemp         0\n",
       "humidity      0\n",
       "windspeed     0\n",
       "casual        0\n",
       "registered    0\n",
       "dtype: int64"
      ]
     },
     "execution_count": 77,
     "metadata": {},
     "output_type": "execute_result"
    }
   ],
   "source": [
    "test.isnull().sum()"
   ]
  },
  {
   "cell_type": "code",
   "execution_count": 78,
   "id": "40699baa",
   "metadata": {},
   "outputs": [
    {
     "data": {
      "text/plain": [
       "Index(['datetime', 'season', 'holiday', 'workingday', 'weather', 'temp',\n",
       "       'atemp', 'humidity', 'windspeed', 'casual', 'registered', 'count'],\n",
       "      dtype='object')"
      ]
     },
     "execution_count": 78,
     "metadata": {},
     "output_type": "execute_result"
    }
   ],
   "source": [
    "train.columns"
   ]
  },
  {
   "cell_type": "code",
   "execution_count": 79,
   "id": "e469cd4f",
   "metadata": {},
   "outputs": [
    {
     "data": {
      "text/plain": [
       "Index(['datetime', 'season', 'holiday', 'workingday', 'weather', 'temp',\n",
       "       'atemp', 'humidity', 'windspeed', 'casual', 'registered'],\n",
       "      dtype='object')"
      ]
     },
     "execution_count": 79,
     "metadata": {},
     "output_type": "execute_result"
    }
   ],
   "source": [
    "test.columns"
   ]
  },
  {
   "cell_type": "code",
   "execution_count": 80,
   "id": "eb910944",
   "metadata": {},
   "outputs": [],
   "source": [
    "#count is the target variable"
   ]
  },
  {
   "cell_type": "code",
   "execution_count": 81,
   "id": "fc728b69",
   "metadata": {},
   "outputs": [
    {
     "data": {
      "text/html": [
       "<div>\n",
       "<style scoped>\n",
       "    .dataframe tbody tr th:only-of-type {\n",
       "        vertical-align: middle;\n",
       "    }\n",
       "\n",
       "    .dataframe tbody tr th {\n",
       "        vertical-align: top;\n",
       "    }\n",
       "\n",
       "    .dataframe thead th {\n",
       "        text-align: right;\n",
       "    }\n",
       "</style>\n",
       "<table border=\"1\" class=\"dataframe\">\n",
       "  <thead>\n",
       "    <tr style=\"text-align: right;\">\n",
       "      <th></th>\n",
       "      <th>season</th>\n",
       "      <th>holiday</th>\n",
       "      <th>workingday</th>\n",
       "      <th>weather</th>\n",
       "      <th>temp</th>\n",
       "      <th>atemp</th>\n",
       "      <th>humidity</th>\n",
       "      <th>windspeed</th>\n",
       "      <th>casual</th>\n",
       "      <th>registered</th>\n",
       "      <th>count</th>\n",
       "    </tr>\n",
       "  </thead>\n",
       "  <tbody>\n",
       "    <tr>\n",
       "      <th>season</th>\n",
       "      <td>1.000000</td>\n",
       "      <td>-0.010959</td>\n",
       "      <td>0.014343</td>\n",
       "      <td>-0.013005</td>\n",
       "      <td>0.394560</td>\n",
       "      <td>0.397765</td>\n",
       "      <td>0.181712</td>\n",
       "      <td>-0.135762</td>\n",
       "      <td>0.104657</td>\n",
       "      <td>0.085699</td>\n",
       "      <td>0.100687</td>\n",
       "    </tr>\n",
       "    <tr>\n",
       "      <th>holiday</th>\n",
       "      <td>-0.010959</td>\n",
       "      <td>1.000000</td>\n",
       "      <td>-0.248558</td>\n",
       "      <td>-0.018406</td>\n",
       "      <td>-0.025104</td>\n",
       "      <td>-0.032903</td>\n",
       "      <td>-0.029520</td>\n",
       "      <td>0.021646</td>\n",
       "      <td>0.029135</td>\n",
       "      <td>-0.046053</td>\n",
       "      <td>-0.029340</td>\n",
       "    </tr>\n",
       "    <tr>\n",
       "      <th>workingday</th>\n",
       "      <td>0.014343</td>\n",
       "      <td>-0.248558</td>\n",
       "      <td>1.000000</td>\n",
       "      <td>0.052788</td>\n",
       "      <td>0.060589</td>\n",
       "      <td>0.064840</td>\n",
       "      <td>0.028026</td>\n",
       "      <td>0.001986</td>\n",
       "      <td>-0.307930</td>\n",
       "      <td>0.131819</td>\n",
       "      <td>0.018842</td>\n",
       "    </tr>\n",
       "    <tr>\n",
       "      <th>weather</th>\n",
       "      <td>-0.013005</td>\n",
       "      <td>-0.018406</td>\n",
       "      <td>0.052788</td>\n",
       "      <td>1.000000</td>\n",
       "      <td>-0.093655</td>\n",
       "      <td>-0.094877</td>\n",
       "      <td>0.432497</td>\n",
       "      <td>0.011120</td>\n",
       "      <td>-0.161752</td>\n",
       "      <td>-0.139034</td>\n",
       "      <td>-0.161018</td>\n",
       "    </tr>\n",
       "    <tr>\n",
       "      <th>temp</th>\n",
       "      <td>0.394560</td>\n",
       "      <td>-0.025104</td>\n",
       "      <td>0.060589</td>\n",
       "      <td>-0.093655</td>\n",
       "      <td>1.000000</td>\n",
       "      <td>0.991839</td>\n",
       "      <td>-0.048478</td>\n",
       "      <td>-0.008669</td>\n",
       "      <td>0.459414</td>\n",
       "      <td>0.344451</td>\n",
       "      <td>0.415938</td>\n",
       "    </tr>\n",
       "    <tr>\n",
       "      <th>atemp</th>\n",
       "      <td>0.397765</td>\n",
       "      <td>-0.032903</td>\n",
       "      <td>0.064840</td>\n",
       "      <td>-0.094877</td>\n",
       "      <td>0.991839</td>\n",
       "      <td>1.000000</td>\n",
       "      <td>-0.031606</td>\n",
       "      <td>-0.049997</td>\n",
       "      <td>0.454015</td>\n",
       "      <td>0.342345</td>\n",
       "      <td>0.412644</td>\n",
       "    </tr>\n",
       "    <tr>\n",
       "      <th>humidity</th>\n",
       "      <td>0.181712</td>\n",
       "      <td>-0.029520</td>\n",
       "      <td>0.028026</td>\n",
       "      <td>0.432497</td>\n",
       "      <td>-0.048478</td>\n",
       "      <td>-0.031606</td>\n",
       "      <td>1.000000</td>\n",
       "      <td>-0.296975</td>\n",
       "      <td>-0.320253</td>\n",
       "      <td>-0.279501</td>\n",
       "      <td>-0.322269</td>\n",
       "    </tr>\n",
       "    <tr>\n",
       "      <th>windspeed</th>\n",
       "      <td>-0.135762</td>\n",
       "      <td>0.021646</td>\n",
       "      <td>0.001986</td>\n",
       "      <td>0.011120</td>\n",
       "      <td>-0.008669</td>\n",
       "      <td>-0.049997</td>\n",
       "      <td>-0.296975</td>\n",
       "      <td>1.000000</td>\n",
       "      <td>0.079524</td>\n",
       "      <td>0.100579</td>\n",
       "      <td>0.105607</td>\n",
       "    </tr>\n",
       "    <tr>\n",
       "      <th>casual</th>\n",
       "      <td>0.104657</td>\n",
       "      <td>0.029135</td>\n",
       "      <td>-0.307930</td>\n",
       "      <td>-0.161752</td>\n",
       "      <td>0.459414</td>\n",
       "      <td>0.454015</td>\n",
       "      <td>-0.320253</td>\n",
       "      <td>0.079524</td>\n",
       "      <td>1.000000</td>\n",
       "      <td>0.509175</td>\n",
       "      <td>0.707938</td>\n",
       "    </tr>\n",
       "    <tr>\n",
       "      <th>registered</th>\n",
       "      <td>0.085699</td>\n",
       "      <td>-0.046053</td>\n",
       "      <td>0.131819</td>\n",
       "      <td>-0.139034</td>\n",
       "      <td>0.344451</td>\n",
       "      <td>0.342345</td>\n",
       "      <td>-0.279501</td>\n",
       "      <td>0.100579</td>\n",
       "      <td>0.509175</td>\n",
       "      <td>1.000000</td>\n",
       "      <td>0.968329</td>\n",
       "    </tr>\n",
       "    <tr>\n",
       "      <th>count</th>\n",
       "      <td>0.100687</td>\n",
       "      <td>-0.029340</td>\n",
       "      <td>0.018842</td>\n",
       "      <td>-0.161018</td>\n",
       "      <td>0.415938</td>\n",
       "      <td>0.412644</td>\n",
       "      <td>-0.322269</td>\n",
       "      <td>0.105607</td>\n",
       "      <td>0.707938</td>\n",
       "      <td>0.968329</td>\n",
       "      <td>1.000000</td>\n",
       "    </tr>\n",
       "  </tbody>\n",
       "</table>\n",
       "</div>"
      ],
      "text/plain": [
       "              season   holiday  workingday   weather      temp     atemp  \\\n",
       "season      1.000000 -0.010959    0.014343 -0.013005  0.394560  0.397765   \n",
       "holiday    -0.010959  1.000000   -0.248558 -0.018406 -0.025104 -0.032903   \n",
       "workingday  0.014343 -0.248558    1.000000  0.052788  0.060589  0.064840   \n",
       "weather    -0.013005 -0.018406    0.052788  1.000000 -0.093655 -0.094877   \n",
       "temp        0.394560 -0.025104    0.060589 -0.093655  1.000000  0.991839   \n",
       "atemp       0.397765 -0.032903    0.064840 -0.094877  0.991839  1.000000   \n",
       "humidity    0.181712 -0.029520    0.028026  0.432497 -0.048478 -0.031606   \n",
       "windspeed  -0.135762  0.021646    0.001986  0.011120 -0.008669 -0.049997   \n",
       "casual      0.104657  0.029135   -0.307930 -0.161752  0.459414  0.454015   \n",
       "registered  0.085699 -0.046053    0.131819 -0.139034  0.344451  0.342345   \n",
       "count       0.100687 -0.029340    0.018842 -0.161018  0.415938  0.412644   \n",
       "\n",
       "            humidity  windspeed    casual  registered     count  \n",
       "season      0.181712  -0.135762  0.104657    0.085699  0.100687  \n",
       "holiday    -0.029520   0.021646  0.029135   -0.046053 -0.029340  \n",
       "workingday  0.028026   0.001986 -0.307930    0.131819  0.018842  \n",
       "weather     0.432497   0.011120 -0.161752   -0.139034 -0.161018  \n",
       "temp       -0.048478  -0.008669  0.459414    0.344451  0.415938  \n",
       "atemp      -0.031606  -0.049997  0.454015    0.342345  0.412644  \n",
       "humidity    1.000000  -0.296975 -0.320253   -0.279501 -0.322269  \n",
       "windspeed  -0.296975   1.000000  0.079524    0.100579  0.105607  \n",
       "casual     -0.320253   0.079524  1.000000    0.509175  0.707938  \n",
       "registered -0.279501   0.100579  0.509175    1.000000  0.968329  \n",
       "count      -0.322269   0.105607  0.707938    0.968329  1.000000  "
      ]
     },
     "execution_count": 81,
     "metadata": {},
     "output_type": "execute_result"
    }
   ],
   "source": [
    "train.corr()"
   ]
  },
  {
   "cell_type": "code",
   "execution_count": 82,
   "id": "a400a2de",
   "metadata": {},
   "outputs": [],
   "source": [
    "#As temp and a temp are strongly correlated we need to drop them instead they decrease the efiiciency of our model"
   ]
  },
  {
   "cell_type": "code",
   "execution_count": 83,
   "id": "f8adac16",
   "metadata": {},
   "outputs": [
    {
     "data": {
      "text/plain": [
       "datetime       object\n",
       "season          int64\n",
       "holiday         int64\n",
       "workingday      int64\n",
       "weather         int64\n",
       "temp          float64\n",
       "atemp         float64\n",
       "humidity      float64\n",
       "windspeed     float64\n",
       "casual          int64\n",
       "registered      int64\n",
       "count           int64\n",
       "dtype: object"
      ]
     },
     "execution_count": 83,
     "metadata": {},
     "output_type": "execute_result"
    }
   ],
   "source": [
    "train.dtypes"
   ]
  },
  {
   "cell_type": "code",
   "execution_count": 84,
   "id": "31a0ef7a",
   "metadata": {},
   "outputs": [],
   "source": [
    "#As we need hourly based prdictions we need to split the date time into hour date and month"
   ]
  },
  {
   "cell_type": "code",
   "execution_count": 85,
   "id": "f5a09603",
   "metadata": {},
   "outputs": [],
   "source": [
    "train[\"date\"] = train.datetime.apply(lambda x : x.split()[0])\n",
    "train[\"hour\"] = train.datetime.apply(lambda x : x.split()[1].split(\":\")[0])\n",
    "train[\"month\"] = train.date.apply(lambda dateString : datetime.strptime(dateString,\"%Y-%m-%d\").month)"
   ]
  },
  {
   "cell_type": "code",
   "execution_count": 86,
   "id": "ec73675f",
   "metadata": {},
   "outputs": [],
   "source": [
    "test[\"date\"] = test.datetime.apply(lambda x : x.split()[0])\n",
    "test[\"hour\"] = test.datetime.apply(lambda x : x.split()[1].split(\":\")[0])\n",
    "test[\"month\"] = test.date.apply(lambda dateString : datetime.strptime(dateString,\"%Y-%m-%d\").month)"
   ]
  },
  {
   "cell_type": "code",
   "execution_count": 87,
   "id": "da4896d1",
   "metadata": {},
   "outputs": [],
   "source": [
    "train1= train[train['datetime']<='2011-03-30 0:00:00']\n",
    "test1 = train[train['datetime']>'2011-03-30 0:00:00']"
   ]
  },
  {
   "cell_type": "code",
   "execution_count": 88,
   "id": "21440090",
   "metadata": {},
   "outputs": [],
   "source": [
    "train=train.drop(['datetime','date','atemp'],axis=1)\n",
    "test=test.drop(['datetime','date','atemp'],axis=1)\n",
    "train1=train1.drop(['datetime','date','atemp'],axis=1)\n",
    "test1=test1.drop(['datetime','date','atemp'],axis=1)"
   ]
  },
  {
   "cell_type": "markdown",
   "id": "2460bbe6",
   "metadata": {},
   "source": [
    "# Model"
   ]
  },
  {
   "cell_type": "code",
   "execution_count": 89,
   "id": "7bd32545",
   "metadata": {},
   "outputs": [],
   "source": [
    "#train and test data\n",
    "Y_train=np.log(train1['count'])\n",
    "X_train=train1.drop(['count'],axis=1)\n",
    "Y_test=np.log(test1['count'])\n",
    "X_test=test1.drop(['count'],axis=1)"
   ]
  },
  {
   "cell_type": "code",
   "execution_count": 90,
   "id": "d17763f7",
   "metadata": {},
   "outputs": [
    {
     "data": {
      "text/plain": [
       "LinearRegression()"
      ]
     },
     "execution_count": 90,
     "metadata": {},
     "output_type": "execute_result"
    }
   ],
   "source": [
    "from sklearn.linear_model import LinearRegression\n",
    "LM=LinearRegression()\n",
    "LM.fit(X_train,Y_train)"
   ]
  },
  {
   "cell_type": "code",
   "execution_count": 91,
   "id": "2e30d0c1",
   "metadata": {},
   "outputs": [],
   "source": [
    "pred=LM.predict(X_test)"
   ]
  },
  {
   "cell_type": "code",
   "execution_count": 95,
   "id": "1f95d636",
   "metadata": {},
   "outputs": [],
   "source": [
    "pd.DataFrame(pred).to_csv('C:/Users/SAKETHBGS/Downloads/t1.csv')"
   ]
  },
  {
   "cell_type": "code",
   "execution_count": 92,
   "id": "c80dd081",
   "metadata": {},
   "outputs": [],
   "source": [
    "from sklearn.metrics import mean_squared_log_error as mse"
   ]
  },
  {
   "cell_type": "code",
   "execution_count": 94,
   "id": "0236b752",
   "metadata": {},
   "outputs": [
    {
     "data": {
      "text/plain": [
       "0.06195034632250663"
      ]
     },
     "execution_count": 94,
     "metadata": {},
     "output_type": "execute_result"
    }
   ],
   "source": [
    "mse(Y_test,pred)\n"
   ]
  },
  {
   "cell_type": "code",
   "execution_count": null,
   "id": "b32b3d0c",
   "metadata": {},
   "outputs": [],
   "source": []
  }
 ],
 "metadata": {
  "kernelspec": {
   "display_name": "Python 3 (ipykernel)",
   "language": "python",
   "name": "python3"
  },
  "language_info": {
   "codemirror_mode": {
    "name": "ipython",
    "version": 3
   },
   "file_extension": ".py",
   "mimetype": "text/x-python",
   "name": "python",
   "nbconvert_exporter": "python",
   "pygments_lexer": "ipython3",
   "version": "3.9.13"
  }
 },
 "nbformat": 4,
 "nbformat_minor": 5
}
